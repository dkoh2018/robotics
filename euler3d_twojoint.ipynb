{
 "cells": [
  {
   "cell_type": "code",
   "execution_count": 3,
   "metadata": {},
   "outputs": [],
   "source": [
    "import sympy as sp\n",
    "from scipy.integrate import odeint\n",
    "import numpy as np\n",
    "import matplotlib.pyplot as plt"
   ]
  },
  {
   "cell_type": "code",
   "execution_count": 4,
   "metadata": {},
   "outputs": [],
   "source": [
    "# Symbols for time and generalized coordinates\n",
    "t = sp.symbols('t')\n",
    "theta1, theta2 = sp.Function('theta1')(t), sp.Function('theta2')(t)\n",
    "L1, L2, m1, m2, g = sp.symbols('L1 L2 m1 m2 g')\n",
    "tau1, tau2 = sp.Function('tau1')(t), sp.Function('tau2')(t)\n",
    "\n",
    "# Derivatives of the angles\n",
    "theta1_dot = sp.diff(theta1, t)\n",
    "theta2_dot = sp.diff(theta2, t)\n",
    "theta1_ddot = sp.diff(theta1_dot, t)\n",
    "theta2_ddot = sp.diff(theta2_dot, t)\n",
    "\n",
    "# Position of the center of masses\n",
    "x1 = L1 * sp.sin(theta1)\n",
    "y1 = -L1 * sp.cos(theta1)\n",
    "x2 = x1 + L2 * sp.sin(theta2)\n",
    "y2 = y1 - L2 * sp.cos(theta2)\n",
    "\n",
    "# Velocities of the center of masses\n",
    "vx1 = sp.diff(x1, t)\n",
    "vy1 = sp.diff(y1, t)\n",
    "vx2 = sp.diff(x2, t)\n",
    "vy2 = sp.diff(y2, t)\n",
    "\n",
    "# Kinetic and potential energy\n",
    "T1 = 1/2 * m1 * (vx1**2 + vy1**2)\n",
    "T2 = 1/2 * m2 * (vx2**2 + vy2**2)\n",
    "V1 = m1 * g * y1\n",
    "V2 = m2 * g * y2\n",
    "\n",
    "Lagrangian = (T1 + T2) - (V1 + V2)"
   ]
  }
 ],
 "metadata": {
  "kernelspec": {
   "display_name": "ai_gym",
   "language": "python",
   "name": "python3"
  },
  "language_info": {
   "codemirror_mode": {
    "name": "ipython",
    "version": 3
   },
   "file_extension": ".py",
   "mimetype": "text/x-python",
   "name": "python",
   "nbconvert_exporter": "python",
   "pygments_lexer": "ipython3",
   "version": "3.11.8"
  }
 },
 "nbformat": 4,
 "nbformat_minor": 2
}
