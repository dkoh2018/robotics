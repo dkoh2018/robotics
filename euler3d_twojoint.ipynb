{
 "cells": [
  {
   "cell_type": "code",
   "execution_count": 1,
   "metadata": {},
   "outputs": [],
   "source": [
    "import sympy as sp\n",
    "from IPython.display import display, Math\n",
    "import numpy as np\n",
    "from scipy.integrate import odeint\n",
    "import matplotlib.pyplot as plt"
   ]
  },
  {
   "cell_type": "code",
   "execution_count": 2,
   "metadata": {},
   "outputs": [
    {
     "data": {
      "text/latex": [
       "$\\displaystyle q_1(t), q_2(t) \\text{ - generalized coordinates}$"
      ],
      "text/plain": [
       "<IPython.core.display.Math object>"
      ]
     },
     "metadata": {},
     "output_type": "display_data"
    },
    {
     "data": {
      "text/latex": [
       "$\\displaystyle \\dot{q}_1(t), \\dot{q}_2(t) \\text{ - first derivatives}$"
      ],
      "text/plain": [
       "<IPython.core.display.Math object>"
      ]
     },
     "metadata": {},
     "output_type": "display_data"
    },
    {
     "data": {
      "text/latex": [
       "$\\displaystyle \\ddot{q}_1(t), \\ddot{q}_2(t) \\text{ - second derivatives}$"
      ],
      "text/plain": [
       "<IPython.core.display.Math object>"
      ]
     },
     "metadata": {},
     "output_type": "display_data"
    }
   ],
   "source": [
    "# Define symbols and generalized coordinates\n",
    "t = sp.symbols('t')\n",
    "q1, q2 = sp.Function('q1')(t), sp.Function('q2')(t)\n",
    "dq1, dq2 = sp.diff(q1, t), sp.diff(q2, t)\n",
    "ddq1, ddq2 = sp.diff(dq1, t), sp.diff(dq2, t)\n",
    "m1, m2, l1, l2, g0, I2 = sp.symbols('m1 m2 l1 l2 g0 I2')\n",
    "tau1, tau2 = sp.symbols('tau1 tau2')\n",
    "\n",
    "display(Math(r'q_1(t), q_2(t) \\text{ - generalized coordinates}'))\n",
    "display(Math(r'\\dot{q}_1(t), \\dot{q}_2(t) \\text{ - first derivatives}'))\n",
    "display(Math(r'\\ddot{q}_1(t), \\ddot{q}_2(t) \\text{ - second derivatives}'))"
   ]
  },
  {
   "cell_type": "code",
   "execution_count": 3,
   "metadata": {},
   "outputs": [
    {
     "data": {
      "text/latex": [
       "$\\displaystyle \\mathbf{r}_{cm1} = \\begin{bmatrix} q_1 \\\\ 0 \\\\ 0 \\end{bmatrix}$"
      ],
      "text/plain": [
       "<IPython.core.display.Math object>"
      ]
     },
     "metadata": {},
     "output_type": "display_data"
    },
    {
     "data": {
      "text/latex": [
       "$\\displaystyle \\mathbf{r}_{cm2} = \\begin{bmatrix} q_1 + l_2 \\sin(q_2) \\\\ -l_2 \\cos(q_2) \\\\ 0 \\end{bmatrix}$"
      ],
      "text/plain": [
       "<IPython.core.display.Math object>"
      ]
     },
     "metadata": {},
     "output_type": "display_data"
    }
   ],
   "source": [
    "# Position vectors of the center of mass\n",
    "rcm1 = sp.Matrix([q1, 0, 0])\n",
    "rcm2 = sp.Matrix([q1 + l2*sp.sin(q2), -l2*sp.cos(q2), 0])\n",
    "\n",
    "display(Math(r'\\mathbf{r}_{cm1} = \\begin{bmatrix} q_1 \\\\ 0 \\\\ 0 \\end{bmatrix}'))\n",
    "display(Math(r'\\mathbf{r}_{cm2} = \\begin{bmatrix} q_1 + l_2 \\sin(q_2) \\\\ -l_2 \\cos(q_2) \\\\ 0 \\end{bmatrix}'))"
   ]
  },
  {
   "cell_type": "code",
   "execution_count": 4,
   "metadata": {},
   "outputs": [
    {
     "data": {
      "text/latex": [
       "$\\displaystyle \\dot{\\mathbf{v}}_{cm1} = \\begin{bmatrix} \\dot{q}_1 \\\\ 0 \\\\ 0 \\end{bmatrix}$"
      ],
      "text/plain": [
       "<IPython.core.display.Math object>"
      ]
     },
     "metadata": {},
     "output_type": "display_data"
    },
    {
     "data": {
      "text/latex": [
       "$\\displaystyle \\dot{\\mathbf{v}}_{cm2} = \\begin{bmatrix} \\dot{q}_1 + l_2 \\dot{q}_2 \\cos(q_2) \\\\ l_2 \\dot{q}_2 \\sin(q_2) \\\\ 0 \\end{bmatrix}$"
      ],
      "text/plain": [
       "<IPython.core.display.Math object>"
      ]
     },
     "metadata": {},
     "output_type": "display_data"
    }
   ],
   "source": [
    "# Velocities of the center of mass\n",
    "vcm1 = sp.Matrix([dq1, 0, 0])\n",
    "vcm2 = sp.Matrix([dq1 + l2*dq2*sp.cos(q2), l2*dq2*sp.sin(q2), 0])\n",
    "\n",
    "display(Math(r'\\dot{\\mathbf{v}}_{cm1} = \\begin{bmatrix} \\dot{q}_1 \\\\ 0 \\\\ 0 \\end{bmatrix}'))\n",
    "display(Math(r'\\dot{\\mathbf{v}}_{cm2} = \\begin{bmatrix} \\dot{q}_1 + l_2 \\dot{q}_2 \\cos(q_2) \\\\ l_2 \\dot{q}_2 \\sin(q_2) \\\\ 0 \\end{bmatrix}'))"
   ]
  },
  {
   "cell_type": "code",
   "execution_count": 5,
   "metadata": {},
   "outputs": [
    {
     "data": {
      "text/latex": [
       "$\\displaystyle T_1 = \\frac{1}{2} m_1 \\dot{\\mathbf{v}}_{cm1} \\cdot \\dot{\\mathbf{v}}_{cm1}$"
      ],
      "text/plain": [
       "<IPython.core.display.Math object>"
      ]
     },
     "metadata": {},
     "output_type": "display_data"
    },
    {
     "data": {
      "text/latex": [
       "$\\displaystyle T_2 = \\frac{1}{2} m_2 \\dot{\\mathbf{v}}_{cm2} \\cdot \\dot{\\mathbf{v}}_{cm2} + \\frac{1}{2} I_2 \\dot{q}_2^2$"
      ],
      "text/plain": [
       "<IPython.core.display.Math object>"
      ]
     },
     "metadata": {},
     "output_type": "display_data"
    },
    {
     "data": {
      "text/latex": [
       "$\\displaystyle T = T_1 + T_2$"
      ],
      "text/plain": [
       "<IPython.core.display.Math object>"
      ]
     },
     "metadata": {},
     "output_type": "display_data"
    }
   ],
   "source": [
    "# Kinetic energy\n",
    "T1 = 1/2 * m1 * vcm1.dot(vcm1)\n",
    "T2 = 1/2 * m2 * vcm2.dot(vcm2) + 1/2 * I2 * dq2**2\n",
    "T = T1 + T2\n",
    "\n",
    "display(Math(r'T_1 = \\frac{1}{2} m_1 \\dot{\\mathbf{v}}_{cm1} \\cdot \\dot{\\mathbf{v}}_{cm1}'))\n",
    "display(Math(r'T_2 = \\frac{1}{2} m_2 \\dot{\\mathbf{v}}_{cm2} \\cdot \\dot{\\mathbf{v}}_{cm2} + \\frac{1}{2} I_2 \\dot{q}_2^2'))\n",
    "display(Math(r'T = T_1 + T_2'))"
   ]
  },
  {
   "cell_type": "code",
   "execution_count": 6,
   "metadata": {},
   "outputs": [
    {
     "data": {
      "text/latex": [
       "$\\displaystyle V_1 = m_1 g_0 r_{cm1, y}$"
      ],
      "text/plain": [
       "<IPython.core.display.Math object>"
      ]
     },
     "metadata": {},
     "output_type": "display_data"
    },
    {
     "data": {
      "text/latex": [
       "$\\displaystyle V_2 = m_2 g_0 r_{cm2, y}$"
      ],
      "text/plain": [
       "<IPython.core.display.Math object>"
      ]
     },
     "metadata": {},
     "output_type": "display_data"
    },
    {
     "data": {
      "text/latex": [
       "$\\displaystyle V = V_1 + V_2$"
      ],
      "text/plain": [
       "<IPython.core.display.Math object>"
      ]
     },
     "metadata": {},
     "output_type": "display_data"
    }
   ],
   "source": [
    "# Potential energy\n",
    "V1 = m1 * g0 * rcm1[1]\n",
    "V2 = m2 * g0 * rcm2[1]\n",
    "V = V1 + V2\n",
    "\n",
    "display(Math(r'V_1 = m_1 g_0 r_{cm1, y}'))\n",
    "display(Math(r'V_2 = m_2 g_0 r_{cm2, y}'))\n",
    "display(Math(r'V = V_1 + V_2'))"
   ]
  },
  {
   "cell_type": "code",
   "execution_count": 7,
   "metadata": {},
   "outputs": [
    {
     "data": {
      "text/latex": [
       "$\\displaystyle \\mathcal{L} = T - V$"
      ],
      "text/plain": [
       "<IPython.core.display.Math object>"
      ]
     },
     "metadata": {},
     "output_type": "display_data"
    }
   ],
   "source": [
    "# Lagrangian\n",
    "L = T - V\n",
    "\n",
    "display(Math(r'\\mathcal{L} = T - V'))"
   ]
  },
  {
   "cell_type": "code",
   "execution_count": 8,
   "metadata": {},
   "outputs": [
    {
     "data": {
      "text/latex": [
       "$\\displaystyle \\frac{d}{dt} \\left( \\frac{\\partial \\mathcal{L}}{\\partial \\dot{q}_1} \\right) - \\frac{\\partial \\mathcal{L}}{\\partial q_1} = \\tau_1$"
      ],
      "text/plain": [
       "<IPython.core.display.Math object>"
      ]
     },
     "metadata": {},
     "output_type": "display_data"
    },
    {
     "data": {
      "text/latex": [
       "$\\displaystyle \\frac{d}{dt} \\left( \\frac{\\partial \\mathcal{L}}{\\partial \\dot{q}_2} \\right) - \\frac{\\partial \\mathcal{L}}{\\partial q_2} = \\tau_2$"
      ],
      "text/plain": [
       "<IPython.core.display.Math object>"
      ]
     },
     "metadata": {},
     "output_type": "display_data"
    }
   ],
   "source": [
    "# Euler-Lagrange equations\n",
    "dL_dq1 = sp.diff(L, q1)\n",
    "dL_dq2 = sp.diff(L, q2)\n",
    "dL_ddq1 = sp.diff(L, dq1)\n",
    "dL_ddq2 = sp.diff(L, dq2)\n",
    "ddt_dL_ddq1 = sp.diff(dL_ddq1, t)\n",
    "ddt_dL_ddq2 = sp.diff(dL_ddq2, t)\n",
    "\n",
    "EL1 = sp.Eq(ddt_dL_ddq1 - dL_dq1, tau1)\n",
    "EL2 = sp.Eq(ddt_dL_ddq2 - dL_dq2, tau2)\n",
    "\n",
    "display(Math(r'\\frac{d}{dt} \\left( \\frac{\\partial \\mathcal{L}}{\\partial \\dot{q}_1} \\right) - \\frac{\\partial \\mathcal{L}}{\\partial q_1} = \\tau_1'))\n",
    "display(Math(r'\\frac{d}{dt} \\left( \\frac{\\partial \\mathcal{L}}{\\partial \\dot{q}_2} \\right) - \\frac{\\partial \\mathcal{L}}{\\partial q_2} = \\tau_2'))"
   ]
  },
  {
   "cell_type": "code",
   "execution_count": 9,
   "metadata": {},
   "outputs": [
    {
     "data": {
      "text/latex": [
       "$\\displaystyle \\ddot{q}_1 = \\frac{I_{2} l_{2} m_{2} \\sin{\\left(q_{2}{\\left(t \\right)} \\right)} \\left(\\frac{d}{d t} q_{2}{\\left(t \\right)}\\right)^{2} + I_{2} \\tau_{1} + \\frac{g_{0} l_{2}^{2} m_{2}^{2} \\sin{\\left(2 q_{2}{\\left(t \\right)} \\right)}}{2} + l_{2}^{3} m_{2}^{2} \\sin{\\left(q_{2}{\\left(t \\right)} \\right)} \\left(\\frac{d}{d t} q_{2}{\\left(t \\right)}\\right)^{2} + l_{2}^{2} m_{2} \\tau_{1} - l_{2} m_{2} \\tau_{2} \\cos{\\left(q_{2}{\\left(t \\right)} \\right)}}{I_{2} m_{1} + I_{2} m_{2} + l_{2}^{2} m_{1} m_{2} + l_{2}^{2} m_{2}^{2} \\sin^{2}{\\left(q_{2}{\\left(t \\right)} \\right)}}$"
      ],
      "text/plain": [
       "<IPython.core.display.Math object>"
      ]
     },
     "metadata": {},
     "output_type": "display_data"
    },
    {
     "data": {
      "text/latex": [
       "$\\displaystyle \\ddot{q}_2 = \\frac{- g_{0} l_{2} m_{1} m_{2} \\sin{\\left(q_{2}{\\left(t \\right)} \\right)} - g_{0} l_{2} m_{2}^{2} \\sin{\\left(q_{2}{\\left(t \\right)} \\right)} - \\frac{l_{2}^{2} m_{2}^{2} \\sin{\\left(2 q_{2}{\\left(t \\right)} \\right)} \\left(\\frac{d}{d t} q_{2}{\\left(t \\right)}\\right)^{2}}{2} - l_{2} m_{2} \\tau_{1} \\cos{\\left(q_{2}{\\left(t \\right)} \\right)} + m_{1} \\tau_{2} + m_{2} \\tau_{2}}{I_{2} m_{1} + I_{2} m_{2} + l_{2}^{2} m_{1} m_{2} + l_{2}^{2} m_{2}^{2} \\sin^{2}{\\left(q_{2}{\\left(t \\right)} \\right)}}$"
      ],
      "text/plain": [
       "<IPython.core.display.Math object>"
      ]
     },
     "metadata": {},
     "output_type": "display_data"
    }
   ],
   "source": [
    "# Solve for accelerations\n",
    "sol = sp.solve([EL1, EL2], (ddq1, ddq2))\n",
    "ddq1_sol = sol[ddq1].simplify()\n",
    "ddq2_sol = sol[ddq2].simplify()\n",
    "\n",
    "display(Math(r'\\ddot{q}_1 = ' + sp.latex(ddq1_sol)))\n",
    "display(Math(r'\\ddot{q}_2 = ' + sp.latex(ddq2_sol)))"
   ]
  },
  {
   "cell_type": "code",
   "execution_count": 10,
   "metadata": {},
   "outputs": [],
   "source": [
    "# Convert to numerical functions\n",
    "f_ddq1 = sp.lambdify((q1, dq1, q2, dq2, tau1, tau2, m1, m2, l1, l2, g0, I2), ddq1_sol)\n",
    "f_ddq2 = sp.lambdify((q1, dq1, q2, dq2, tau1, tau2, m1, m2, l1, l2, g0, I2), ddq2_sol)"
   ]
  },
  {
   "cell_type": "code",
   "execution_count": 11,
   "metadata": {},
   "outputs": [],
   "source": [
    "# Numerical simulation\n",
    "def equations(y, t, tau1, tau2, m1, m2, l1, l2, g0, I2):\n",
    "    q1, dq1, q2, dq2 = y\n",
    "    ddq1 = f_ddq1(q1, dq1, q2, dq2, tau1, tau2, m1, m2, l1, l2, g0, I2)\n",
    "    ddq2 = f_ddq2(q1, dq1, q2, dq2, tau1, tau2, m1, m2, l1, l2, g0, I2)\n",
    "    return [dq1, ddq1, dq2, ddq2]\n",
    "\n",
    "# Time vector and initial conditions\n",
    "t = np.linspace(0, 10, 1000)\n",
    "y0 = [0, 0, 0, 0]\n",
    "tau1_value = 0.1  # constant torque\n",
    "tau2_value = 0.1  # constant torque\n",
    "params = (tau1_value, tau2_value, 1.0, 1.0, 1.0, 1.0, 9.8, 0.1)\n",
    "\n",
    "# Solve the differential equations\n",
    "solution = odeint(equations, y0, t, args=params)\n",
    "q1, dq1, q2, dq2 = solution.T"
   ]
  },
  {
   "cell_type": "code",
   "execution_count": 12,
   "metadata": {},
   "outputs": [
    {
     "data": {
      "image/png": "[encoded data removed]",
      "text/plain": [
       "<Figure size 1200x800 with 1 Axes>"
      ]
     },
     "metadata": {},
     "output_type": "display_data"
    }
   ],
   "source": [
    "# Plot the results\n",
    "plt.figure(figsize=(12, 8))\n",
    "plt.plot(t, q1, label='q1 (m)', linestyle='-', marker='o', markersize=4)\n",
    "plt.plot(t, q2, label='q2 (rad)', linestyle='--', marker='s', markersize=4)\n",
    "plt.title('Joint Positions over Time', fontsize=16)\n",
    "plt.xlabel('Time (s)', fontsize=14)\n",
    "plt.ylabel('Position (m, rad)', fontsize=14)\n",
    "plt.grid(True, which='both', linestyle='--', linewidth=0.5)\n",
    "plt.legend(loc='upper right', fontsize=12)\n",
    "plt.show()"
   ]
  }
 ],
 "metadata": {
  "kernelspec": {
   "display_name": "ai_gym",
   "language": "python",
   "name": "python3"
  },
  "language_info": {
   "codemirror_mode": {
    "name": "ipython",
    "version": 3
   },
   "file_extension": ".py",
   "mimetype": "text/x-python",
   "name": "python",
   "nbconvert_exporter": "python",
   "pygments_lexer": "ipython3",
   "version": "3.11.8"
  }
 },
 "nbformat": 4,
 "nbformat_minor": 2
}
